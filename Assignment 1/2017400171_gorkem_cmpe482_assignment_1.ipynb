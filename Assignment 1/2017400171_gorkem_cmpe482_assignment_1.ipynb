{
 "cells": [
  {
   "cell_type": "markdown",
   "id": "opposed-provider",
   "metadata": {},
   "source": [
    "# CMPE 482 ASSIGNMENT 1"
   ]
  },
  {
   "cell_type": "markdown",
   "id": "fifty-soundtrack",
   "metadata": {},
   "source": [
    "**Name:** Orhun Görkem  \n",
    "**Student ID:** 2017400171  "
   ]
  },
  {
   "cell_type": "markdown",
   "id": "answering-satellite",
   "metadata": {},
   "source": [
    "## QUESTION 1"
   ]
  },
  {
   "cell_type": "code",
   "execution_count": 1,
   "id": "handy-absence",
   "metadata": {},
   "outputs": [],
   "source": [
    "import numpy as np\n",
    "from matplotlib import pyplot as plt"
   ]
  },
  {
   "cell_type": "code",
   "execution_count": 2,
   "id": "hearing-relay",
   "metadata": {},
   "outputs": [],
   "source": [
    "def gram_schmidt(matrix):\n",
    "    orthonormal_basis=[]\n",
    "    for i in range(len(matrix)):\n",
    "        a = matrix[i]\n",
    "        q = a\n",
    "        for j in range(i):\n",
    "            q = q - (orthonormal_basis[j] @ a) * orthonormal_basis[j]\n",
    "        if np.all(q == 0):\n",
    "            print(\"Linearly Dependent\")\n",
    "            return\n",
    "        q = q / np.linalg.norm(q)\n",
    "        orthonormal_basis.append(q)\n",
    "    return np.array(orthonormal_basis)"
   ]
  },
  {
   "cell_type": "markdown",
   "id": "certain-cologne",
   "metadata": {},
   "source": [
    "Generating 5x5 matrix with random indices"
   ]
  },
  {
   "cell_type": "code",
   "execution_count": 3,
   "id": "wrong-graduation",
   "metadata": {},
   "outputs": [],
   "source": [
    "X = np.array([np.array([np.random.normal() for i in range(5)]) for j in range(5)])"
   ]
  },
  {
   "cell_type": "markdown",
   "id": "rocky-jimmy",
   "metadata": {},
   "source": [
    "In QR factorization, the columns for Q matrix should be orthonormal, which can be provided using Gram Schmidt algorithm."
   ]
  },
  {
   "cell_type": "code",
   "execution_count": 4,
   "id": "systematic-clearance",
   "metadata": {},
   "outputs": [],
   "source": [
    "Q = gram_schmidt(X.T).T"
   ]
  },
  {
   "cell_type": "markdown",
   "id": "elect-football",
   "metadata": {},
   "source": [
    "As Q being an orthonormal matrix,  \n",
    "$Q.Q^{T} = I$ should hold.\n",
    "\n",
    "Since we want $ X = Q.R $ by factorizing,\n",
    "$ X = I.X = Q.Q^{T}.X = Q.R $  \n",
    "$R=Q^{T}.X$"
   ]
  },
  {
   "cell_type": "code",
   "execution_count": 5,
   "id": "young-relief",
   "metadata": {},
   "outputs": [],
   "source": [
    "R = Q.T@X"
   ]
  },
  {
   "cell_type": "markdown",
   "id": "injured-trade",
   "metadata": {},
   "source": [
    "Let's check what we got:  \n",
    "### a.  \n",
    "$Q^{T}.Q = I$  should hold since Q is an orthonormal matrix."
   ]
  },
  {
   "cell_type": "code",
   "execution_count": 6,
   "id": "interracial-folks",
   "metadata": {},
   "outputs": [
    {
     "data": {
      "text/plain": [
       "array([[ 1., -0., -0.,  0.,  0.],\n",
       "       [-0.,  1.,  0., -0., -0.],\n",
       "       [-0.,  0.,  1.,  0., -0.],\n",
       "       [ 0., -0.,  0.,  1., -0.],\n",
       "       [ 0., -0., -0., -0.,  1.]])"
      ]
     },
     "execution_count": 6,
     "metadata": {},
     "output_type": "execute_result"
    }
   ],
   "source": [
    "(Q.T @ Q).round(5)"
   ]
  },
  {
   "cell_type": "markdown",
   "id": "consistent-configuration",
   "metadata": {},
   "source": [
    "### b.  \n",
    "$Q^{T}.Q = Q.Q^{T} = I$  \n",
    "\n",
    "(Since $Q^T = Q^{-1}$)"
   ]
  },
  {
   "cell_type": "code",
   "execution_count": 7,
   "id": "arabic-transportation",
   "metadata": {},
   "outputs": [
    {
     "data": {
      "text/plain": [
       "array([[ 1.,  0., -0.,  0.,  0.],\n",
       "       [ 0.,  1.,  0., -0.,  0.],\n",
       "       [-0.,  0.,  1.,  0.,  0.],\n",
       "       [ 0., -0.,  0.,  1., -0.],\n",
       "       [ 0.,  0.,  0., -0.,  1.]])"
      ]
     },
     "execution_count": 7,
     "metadata": {},
     "output_type": "execute_result"
    }
   ],
   "source": [
    "(Q @ Q.T).round(5)"
   ]
  },
  {
   "cell_type": "markdown",
   "id": "dominican-instrumentation",
   "metadata": {},
   "source": [
    "### c.\n",
    "R is an upper triangular matrix."
   ]
  },
  {
   "cell_type": "code",
   "execution_count": 8,
   "id": "gothic-liechtenstein",
   "metadata": {},
   "outputs": [
    {
     "data": {
      "text/plain": [
       "array([[ 1.88467,  0.29144,  0.49544, -0.12909, -0.02777],\n",
       "       [-0.     ,  1.64487, -0.0184 ,  0.31723, -1.13943],\n",
       "       [-0.     ,  0.     ,  2.26836,  0.33684,  2.81715],\n",
       "       [ 0.     ,  0.     ,  0.     ,  2.14307,  0.08518],\n",
       "       [ 0.     ,  0.     , -0.     , -0.     ,  0.52742]])"
      ]
     },
     "execution_count": 8,
     "metadata": {},
     "output_type": "execute_result"
    }
   ],
   "source": [
    "R.round(5)"
   ]
  },
  {
   "cell_type": "markdown",
   "id": "fiscal-reverse",
   "metadata": {},
   "source": [
    "### d.  \n",
    "Since we factorized $X$ into $Q$ and $R$,  \n",
    "$ X = Q.R $  \n",
    "$ Q.R - X = Q.R - Q.R = 0$"
   ]
  },
  {
   "cell_type": "code",
   "execution_count": 9,
   "id": "differential-cause",
   "metadata": {},
   "outputs": [
    {
     "data": {
      "text/plain": [
       "array([[ 0.,  0., -0.,  0., -0.],\n",
       "       [-0.,  0.,  0.,  0.,  0.],\n",
       "       [ 0.,  0.,  0., -0., -0.],\n",
       "       [-0., -0.,  0.,  0.,  0.],\n",
       "       [-0., -0.,  0.,  0.,  0.]])"
      ]
     },
     "execution_count": 9,
     "metadata": {},
     "output_type": "execute_result"
    }
   ],
   "source": [
    "(Q@R - X).round(5)"
   ]
  },
  {
   "cell_type": "markdown",
   "id": "institutional-orlando",
   "metadata": {},
   "source": [
    "## QUESTION 2"
   ]
  },
  {
   "cell_type": "code",
   "execution_count": 10,
   "id": "surgical-tribe",
   "metadata": {},
   "outputs": [
    {
     "data": {
      "image/png": "[encoded data removed]",
      "text/plain": [
       "<Figure size 576x576 with 1 Axes>"
      ]
     },
     "metadata": {
      "needs_background": "light"
     },
     "output_type": "display_data"
    }
   ],
   "source": [
    "%matplotlib inline\n",
    "f = plt.figure()\n",
    "f.set_figwidth(8)\n",
    "f.set_figheight(8)\n",
    "\n",
    "x=np.linspace(-10,10,500)\n",
    "plt.xlabel('X',size=15)\n",
    "plt.ylabel('Y',size=15)\n",
    "plt.xlim([-5,5])\n",
    "plt.ylim([-5,5])\n",
    "Y = np.array([[1,-4],[2,1]])\n",
    "origin = np.array([[0, 0],[0, 0]]) # origin point\n",
    "plt.quiver(*origin, Y.T[:,0], Y.T[:,1], color=['r','b'], scale=10)\n",
    "plt.grid()"
   ]
  },
  {
   "cell_type": "code",
   "execution_count": 11,
   "id": "fleet-nothing",
   "metadata": {},
   "outputs": [
    {
     "data": {
      "text/plain": [
       "array([[ 0.4472136 , -0.89442719],\n",
       "       [ 0.89442719,  0.4472136 ]])"
      ]
     },
     "execution_count": 11,
     "metadata": {},
     "output_type": "execute_result"
    }
   ],
   "source": [
    "Q1 = gram_schmidt(Y.T).T\n",
    "Q1"
   ]
  },
  {
   "cell_type": "code",
   "execution_count": 12,
   "id": "announced-collection",
   "metadata": {},
   "outputs": [
    {
     "data": {
      "image/png": "[encoded data removed]",
      "text/plain": [
       "<Figure size 576x576 with 1 Axes>"
      ]
     },
     "metadata": {
      "needs_background": "light"
     },
     "output_type": "display_data"
    }
   ],
   "source": [
    "f = plt.figure()\n",
    "f.set_figwidth(8)\n",
    "f.set_figheight(8)\n",
    "\n",
    "x=np.linspace(-10,10,500)\n",
    "plt.xlabel('X',size=15)\n",
    "plt.ylabel('Y',size=15)\n",
    "plt.xlim([-5,5])\n",
    "plt.ylim([-5,5])\n",
    "origin = np.array([[0, 0],[0, 0]]) # origin point\n",
    "plt.quiver(*origin, Q1.T[:,0], Q1.T[:,1], color=['r','b'], scale=10)\n",
    "plt.grid()\n"
   ]
  },
  {
   "cell_type": "markdown",
   "id": "frank-queens",
   "metadata": {},
   "source": [
    "## QUESTION 3"
   ]
  },
  {
   "cell_type": "code",
   "execution_count": 13,
   "id": "unlikely-truth",
   "metadata": {},
   "outputs": [],
   "source": [
    "H = [[(1/(i+j-1)) for i in range(1,201)] for j in range(1,201)]\n",
    "H = np.array(H)\n",
    "I = np.identity(200)\n",
    "X = (10**-5)*I + H"
   ]
  },
  {
   "cell_type": "markdown",
   "id": "exotic-player",
   "metadata": {},
   "source": [
    "We first apply the original Gram Schmidt algorithm to X."
   ]
  },
  {
   "cell_type": "code",
   "execution_count": 14,
   "id": "sonic-fighter",
   "metadata": {},
   "outputs": [],
   "source": [
    "Q1 = gram_schmidt(X.T).T\n",
    "R1 = Q1.T@X"
   ]
  },
  {
   "cell_type": "markdown",
   "id": "possible-mortality",
   "metadata": {},
   "source": [
    "Now implementing the modified algorithm:"
   ]
  },
  {
   "cell_type": "code",
   "execution_count": 15,
   "id": "closing-agreement",
   "metadata": {},
   "outputs": [],
   "source": [
    "def modified_gram_schmidt(matrix):\n",
    "    v = matrix\n",
    "    R = np.zeros((len(matrix),len(matrix)))\n",
    "    Q = np.zeros((len(matrix),len(matrix)))\n",
    "    for i in range(len(matrix)):\n",
    "        R[i][i] = np.linalg.norm(v[i])\n",
    "        Q[i] = v[i]/R[i][i]\n",
    "        for j in range(i+1,len(matrix)):\n",
    "            R[i][j] = Q[i]@v[j]\n",
    "            v[j] = v[j] - R[i][j]*Q[i]\n",
    "            \n",
    "    return Q,R\n",
    "        \n",
    "Q2, R2 = modified_gram_schmidt(X.T)"
   ]
  },
  {
   "cell_type": "code",
   "execution_count": 16,
   "id": "industrial-occurrence",
   "metadata": {
    "scrolled": true
   },
   "outputs": [
    {
     "name": "stdout",
     "output_type": "stream",
     "text": [
      "Max error with classical algorithm: 0.9999998536126823\n",
      "Max error with modified algorithm: 1.5022586237078853e-11\n"
     ]
    }
   ],
   "source": [
    "E1 = I - Q1.T @ Q1\n",
    "E2 = I - Q2.T @ Q2\n",
    "print(\"Max error with classical algorithm: \"+str(max(abs(E1.max()),abs(E1.min()))))\n",
    "print(\"Max error with modified algorithm: \"+str(max(abs(E2.max()),abs(E2.min()))))"
   ]
  },
  {
   "cell_type": "markdown",
   "id": "soviet-wright",
   "metadata": {},
   "source": [
    "Expectedly, classical algorithm caused more errors since the it conducts many risky subtructions successively, whereas the modified version changes the order of operations and makes subtruction more precisely. "
   ]
  },
  {
   "cell_type": "markdown",
   "id": "optical-synthesis",
   "metadata": {},
   "source": [
    "## QUESTION 4"
   ]
  },
  {
   "cell_type": "code",
   "execution_count": 17,
   "id": "hispanic-change",
   "metadata": {},
   "outputs": [],
   "source": [
    "from scipy.misc import derivative"
   ]
  },
  {
   "cell_type": "markdown",
   "id": "pretty-amsterdam",
   "metadata": {},
   "source": [
    "Original function: $f(x)=x^2+2.e^x$"
   ]
  },
  {
   "cell_type": "code",
   "execution_count": 18,
   "id": "thorough-bermuda",
   "metadata": {},
   "outputs": [],
   "source": [
    "def f(x):\n",
    "    return x**2 + 2*np.exp(x)\n",
    "\n",
    "x = np.linspace(-2,2,401)\n",
    "y = f(x)\n",
    "index = np.where(x==0.5)  #index of x=0.5"
   ]
  },
  {
   "cell_type": "markdown",
   "id": "still-print",
   "metadata": {},
   "source": [
    "Zeroth order Taylor approximation:  \n",
    "\n",
    "$f(x)≈f(a)$"
   ]
  },
  {
   "cell_type": "code",
   "execution_count": 19,
   "id": "equivalent-anger",
   "metadata": {},
   "outputs": [],
   "source": [
    "y0 = np.array([f(0.5) for i in range(401)])"
   ]
  },
  {
   "cell_type": "markdown",
   "id": "trying-bryan",
   "metadata": {},
   "source": [
    "First order Taylor approximation:  \n",
    "\n",
    "$f(x)≈f(a)+f′(a)(x−a)$"
   ]
  },
  {
   "cell_type": "code",
   "execution_count": 20,
   "id": "lovely-dynamics",
   "metadata": {},
   "outputs": [],
   "source": [
    "dydx=derivative(f,x0=0.5,n=1,dx=1/100,order=5)\n",
    "y1 = f(0.5) + dydx*(x-0.5)"
   ]
  },
  {
   "cell_type": "markdown",
   "id": "coated-kruger",
   "metadata": {},
   "source": [
    "Second order Taylor approximation:  \n",
    "\n",
    "$f(x)≈f(a)+f′(a)(x−a) + \\frac{1}{2}.f′′(a)(x−a)^2$"
   ]
  },
  {
   "cell_type": "code",
   "execution_count": 21,
   "id": "unable-clinic",
   "metadata": {},
   "outputs": [],
   "source": [
    "dydx2=derivative(f,x0=0.5,n=2,dx=1/100,order=5)\n",
    "y2 = y1 + dydx2*((x-0.5)**2)/2"
   ]
  },
  {
   "cell_type": "markdown",
   "id": "controlling-signature",
   "metadata": {},
   "source": [
    "Third order Taylor approximation:  \n",
    "\n",
    "$f(x)≈f(a)+f′(a)(x−a) + \\frac{1}{2}.f′′(a)(x−a)^2 + \\frac{1}{6}.f′′′(a)(x−a)^3$"
   ]
  },
  {
   "cell_type": "code",
   "execution_count": 22,
   "id": "fatty-painting",
   "metadata": {},
   "outputs": [],
   "source": [
    "dydx3=derivative(f,x0=0.5,n=3,dx=1/100,order=5)\n",
    "y3 = y2 + dydx3*((x-0.5)**3)/6"
   ]
  },
  {
   "cell_type": "code",
   "execution_count": 23,
   "id": "express-promise",
   "metadata": {},
   "outputs": [
    {
     "data": {
      "image/png": "[encoded data removed]",
      "text/plain": [
       "<Figure size 864x576 with 1 Axes>"
      ]
     },
     "metadata": {
      "needs_background": "light"
     },
     "output_type": "display_data"
    }
   ],
   "source": [
    "f = plt.figure()\n",
    "f.set_figwidth(12)\n",
    "f.set_figheight(8)\n",
    "plt.plot(x,y,color='b',label=\"original function\")\n",
    "plt.plot(x,y0,color='yellow',label=\"zeroth-order\")\n",
    "plt.plot(x,y1,color='g',label=\"first-order\")\n",
    "plt.plot(x,y2,color='r',label=\"second-order\")\n",
    "plt.plot(x,y3,color='black',label=\"third-order\")\n",
    "plt.legend(loc=\"upper left\")\n",
    "plt.grid()"
   ]
  },
  {
   "cell_type": "markdown",
   "id": "olive-champion",
   "metadata": {},
   "source": [
    "## QUESTION 5"
   ]
  },
  {
   "cell_type": "markdown",
   "id": "consistent-vessel",
   "metadata": {},
   "source": [
    "For real nxn matrices $C$, $D$, $E$, $F$, we want to compute,  \n",
    "\n",
    "$(A+i.B) = (C + i.D)(E +i.F)$ with 3 matrix multiplications.  \n",
    "\n",
    "Using distributive property,  \n",
    "\n",
    "$$ K = (C+D).(E-F) = C.E - C.F + D.E - D.F (*)$$  \n",
    "\n",
    "$$ M = C.F (*)$$  \n",
    "\n",
    "$$ N = D.E (*)$$  \n",
    "\n",
    "$$ K - M - N + i.(M-N)  = C.E - D.F + i.(C.F - D.E)$$ \n",
    "\n",
    "$$ K - M - N + i.(M-N)  = A + i.B$$   \n",
    "\n",
    "(*) represents the operations with multiplication"
   ]
  },
  {
   "cell_type": "code",
   "execution_count": 24,
   "id": "greek-prerequisite",
   "metadata": {},
   "outputs": [],
   "source": [
    "def func(C,D,E,F):\n",
    "    K = (C+D)@(E+F)\n",
    "    M = C@F\n",
    "    N = D@E\n",
    "    return (K-M-N),(M-N)\n"
   ]
  },
  {
   "cell_type": "markdown",
   "id": "declared-universal",
   "metadata": {},
   "source": [
    "## QUESTION 6"
   ]
  },
  {
   "cell_type": "markdown",
   "id": "closing-prevention",
   "metadata": {},
   "source": [
    "For function $\\phi$ to be linear, it needs to satisfy,  \n",
    "$$\\phi(\\alpha.x) = \\alpha.\\phi(x)$$  \n",
    "for vector $x$ and any real coefficient $\\alpha$."
   ]
  },
  {
   "cell_type": "markdown",
   "id": "suspended-territory",
   "metadata": {},
   "source": [
    "Now let x be 3-vector $(-1, 1, 1)$ and $\\alpha=-1$.  \n",
    "With given inputs, we know that  \n",
    "\n",
    "$$\\phi(x) =\\phi(-1, 1, 1) = 1$$ \n",
    "\n",
    "Then if $\\phi$ is linear, \n",
    "$$\\phi(\\alpha.x) = \\phi(1,-1,-1) = \\alpha.\\phi(x) = \\alpha.1 = -1$$  must hold."
   ]
  },
  {
   "cell_type": "markdown",
   "id": "opened-egyptian",
   "metadata": {},
   "source": [
    "However, this is a contradiction since \n",
    "$$\\phi(1,-1,-1)=1$$  \n",
    "\n",
    "Thus, we conclude that $\\phi$ can not be linear."
   ]
  },
  {
   "cell_type": "code",
   "execution_count": null,
   "id": "convinced-boards",
   "metadata": {},
   "outputs": [],
   "source": []
  }
 ],
 "metadata": {
  "kernelspec": {
   "display_name": "Python 3",
   "language": "python",
   "name": "python3"
  },
  "language_info": {
   "codemirror_mode": {
    "name": "ipython",
    "version": 3
   },
   "file_extension": ".py",
   "mimetype": "text/x-python",
   "name": "python",
   "nbconvert_exporter": "python",
   "pygments_lexer": "ipython3",
   "version": "3.8.5"
  },
  "metadata": {
   "interpreter": {
    "hash": "1baa965d5efe3ac65b79dfc60c0d706280b1da80fedb7760faf2759126c4f253"
   }
  }
 },
 "nbformat": 4,
 "nbformat_minor": 5
}
