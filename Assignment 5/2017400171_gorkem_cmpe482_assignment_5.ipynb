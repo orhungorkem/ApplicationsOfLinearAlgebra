{
 "cells": [
  {
   "cell_type": "markdown",
   "metadata": {
    "id": "VUWxqz26pnpI"
   },
   "source": [
    "# ASSIGNMENT 5\n",
    "\n",
    "**Name:** Orhun  \n",
    "**Surname:** Görkem  \n",
    "**Id:** 2017400171  \n",
    "\n",
    "**Note: I used Google Colab for jax implementation. When it is rerun on Jupyter Notebook, there may be some indentation errors. However, my outputs are ready without running in my submission.**\n",
    "\n",
    "\n",
    "## Question 1"
   ]
  },
  {
   "cell_type": "code",
   "execution_count": 2,
   "metadata": {
    "id": "gZgqrkIpp8pa"
   },
   "outputs": [],
   "source": [
    "import pandas as pd\n",
    "import numpy as np\n",
    "from matplotlib import pyplot as plt"
   ]
  },
  {
   "cell_type": "code",
   "execution_count": null,
   "metadata": {},
   "outputs": [],
   "source": [
    "import jax\n",
    "import jax.numpy as jnp"
   ]
  },
  {
   "cell_type": "code",
   "execution_count": 3,
   "metadata": {
    "id": "jJOKxQcEqOUp"
   },
   "outputs": [],
   "source": [
    "data = pd.read_csv(\"iris.data\")\n",
    "data = data.loc[49:]"
   ]
  },
  {
   "cell_type": "code",
   "execution_count": 4,
   "metadata": {
    "id": "npy10w_w6ss3"
   },
   "outputs": [],
   "source": [
    "y = data.iloc[:,-1:].to_numpy()\n",
    "A = data.iloc[:,0:4].to_numpy()"
   ]
  },
  {
   "cell_type": "code",
   "execution_count": 5,
   "metadata": {
    "id": "1e2z0m537IGF"
   },
   "outputs": [],
   "source": [
    "for i in range(100):\n",
    "    if i<50:\n",
    "        y[i]=0\n",
    "    else:\n",
    "        y[i]=1"
   ]
  },
  {
   "cell_type": "markdown",
   "metadata": {
    "id": "IOX6SF328yu8"
   },
   "source": [
    "### a)"
   ]
  },
  {
   "cell_type": "code",
   "execution_count": 6,
   "metadata": {
    "colab": {
     "base_uri": "https://localhost:8080/",
     "height": 286
    },
    "id": "OkJtFrtp8E-I",
    "outputId": "2732b5ba-d1a7-4759-e228-0e504a93f6e9"
   },
   "outputs": [
    {
     "data": {
      "text/plain": [
       "<matplotlib.collections.PathCollection at 0x1f73916b280>"
      ]
     },
     "execution_count": 6,
     "metadata": {},
     "output_type": "execute_result"
    },
    {
     "data": {
      "image/png": "[encoded data removed]",
      "text/plain": [
       "<Figure size 432x288 with 1 Axes>"
      ]
     },
     "metadata": {
      "needs_background": "light"
     },
     "output_type": "display_data"
    }
   ],
   "source": [
    "u,s,v = np.linalg.svd(A)\n",
    "sigma = np.zeros(A.shape)\n",
    "for i in range(len(s)):\n",
    "    sigma[i,i]=s[i]\n",
    "\n",
    "C = u@sigma\n",
    "X = C[:,0:2]\n",
    "\n",
    "a = X[:,0:1]\n",
    "b = X[:,1:2]\n",
    "plt.scatter(a[:50],b[:50],color = 'r')\n",
    "plt.scatter(a[50:],b[50:])"
   ]
  },
  {
   "cell_type": "markdown",
   "metadata": {
    "id": "uWZmX-Fy-fvT"
   },
   "source": [
    "### b)\n",
    "\n",
    "$$ A = U.\\Sigma.V^T $$\n",
    "\n",
    "As discovered in last assignment, the weights multiplied with $V^T$ become smaller as we proceed along the diagonal of $\\Sigma$. Therefore, we had said that, the first column of $V$ was the most representative column for $A$ and it brings approximations a summary property. Here we have,\n",
    "\n",
    "$$ C = U.\\Sigma = A.V  $$\n",
    "\n",
    "since $V$ is orthonormal.\n",
    "Calling first two columns of $C$ as $X$, $X$ consists of the multiplication of $A$ with the first 2 columns of $V$.  \n",
    "\n",
    "This is why we can assert that $X$ is a sufficient candidiate to represent $A$ in our analysis.  \n",
    " \n",
    "At first, we had 100 vectors in 4-dimensional space. By the approximation above, we projected our data to a plane, so obtained 100 vectors on a 2-dimensional space. This 2-D space can be represented with first 2 columns of $U$ since $C$ matrix consists of scaled versions of the columns of $U$. As $U$ being orthonormal, we do not need to prove that those 2 columns form a basis.  \n",
    "\n",
    "We could derive infinitely many planes from the initial 4-D space. However, the one with the basis having first 2 columns of U is the most representative one in sense of seperating the data. \n"
   ]
  },
  {
   "cell_type": "markdown",
   "metadata": {
    "id": "__2fUEZA-pMD"
   },
   "source": [
    "## Question 2\n",
    "\n",
    "\n",
    "$$ y \\approx \\hat{y} = \\sigma(\\beta + \\theta^T.x) $$\n",
    "\n",
    "$$ \\sigma(a) = \\frac{1}{1+e^{-a}}$$\n",
    "\n",
    "Note that we will ignore $\\beta$ here for simplicity.\n",
    "\n",
    "$$L(\\theta)= \\frac{1}{N}. \\sum_{1}^{N} -y_i.\\log{\\hat{(y_i)}} - (1 - y_i).\\log{(1-\\hat{y_i}})  $$\n",
    "\n",
    "We will use gradient descent to optimize log loss for logistic regression. Let $\\theta ^{(k)}$ be the paramteres in $k$. iteration.\n",
    "\n",
    "\n",
    "$$ \\theta^{(k+1)} = \\theta^{(k)} - \\eta. \\sum_{1}^{N} \\nabla_{\\theta^{(k)}}L(\\theta^{(k)})   $$\n",
    "\n",
    "\n",
    "### a)\n"
   ]
  },
  {
   "cell_type": "markdown",
   "metadata": {
    "id": "8lqbB-uwT8Bi"
   },
   "source": [
    "$$  \\nabla_{{\\theta_1}^{(k)}}L(\\theta^{(k)})= \\sum_{i = 1}^{N} \\frac{\\partial L}{\\partial \\hat{y}_i }.\\frac{\\partial \\hat{y}_i }{\\partial \\theta_1 }  $$\n",
    "\n",
    "$$ \\frac{\\partial L}{\\partial \\hat{y}_i } = \\frac{-1}{N}.(\\frac{y_i}{\\hat{y}_i} - \\frac{1-y_i}{1-\\hat{y}_i})   $$\n",
    "\n",
    "$$ \\frac{\\partial \\hat{y}_i }{\\partial \\theta_1 } =  \\sigma(\\theta^T.x).(1-\\sigma(\\theta^T.x)).x_{i,1}\n",
    "$$\n",
    "(where $x_{i,1}$ represents first element of first observation)\n",
    "\n",
    "Then if we replace $\\hat{y}_i$ with $\\sigma(\\beta+ \\theta^T.x_i)$, we can get the gradient in terms of $X$, $y$ and $\\theta$ after applying the multiplication and sum formula.This can be applied for any $\\theta_i$.\n",
    "\n",
    "In the following code, we can implement this.\n"
   ]
  },
  {
   "cell_type": "code",
   "execution_count": 9,
   "metadata": {
    "colab": {
     "base_uri": "https://localhost:8080/"
    },
    "id": "_joyDFNSgWPL",
    "outputId": "2b5c10bd-7a00-4ba3-f2f2-5188216e8ecf"
   },
   "outputs": [
    {
     "name": "stdout",
     "output_type": "stream",
     "text": [
      "Gradients: 3.1345506 -0.19211866\n"
     ]
    }
   ],
   "source": [
    "np.random.seed(0)\n",
    "theta_init = np.random.randn(2,1)/10\n",
    "\n",
    "def sigmoid(a):\n",
    "  return 1/(1+jnp.exp(-1*a))\n",
    "\n",
    "\n",
    "def model(theta, x):\n",
    "  return sigmoid(theta.T@x)\n",
    "\n",
    "def dLdy(y_hat, y ,N):\n",
    "  return (-1/N)*(y/y_hat - (1-y)/(1-y_hat))\n",
    "\n",
    "def dydt(x,theta,index):\n",
    "  s = model(theta,x)\n",
    "  return s*(1-s)*x[index-1]\n",
    "\n",
    "sum1 = 0\n",
    "sum2 = 0\n",
    "for i in range(len(X)):\n",
    "  x = X[i]\n",
    "  yi = y[i][0]\n",
    "  y_hat_i = model(theta_init,x)[0]\n",
    "  a=dLdy(y_hat_i,yi,100)\n",
    "  b1=dydt(x,theta_init,1)\n",
    "  b2=dydt(x,theta_init,2)\n",
    "  sum1+= a*b1  #for theta 1\n",
    "  sum2+= a*b2  #for theta 1\n",
    "\n",
    "print(\"Gradients:\",sum1[0],sum2[0])\n",
    "\n"
   ]
  },
  {
   "cell_type": "markdown",
   "metadata": {
    "id": "p6vAntglxjhc"
   },
   "source": [
    "So the gradient values are above. I calculated it according to initial $\\theta$. We can verify the result with the following code:"
   ]
  },
  {
   "cell_type": "code",
   "execution_count": 10,
   "metadata": {
    "colab": {
     "base_uri": "https://localhost:8080/"
    },
    "id": "I7QH-qXSmMHN",
    "outputId": "ead8c8d3-3462-44c8-b3cc-388a92c63257"
   },
   "outputs": [
    {
     "data": {
      "text/plain": [
       "(DeviceArray(1.015273, dtype=float32), DeviceArray([[ 3.1345503 ],\n",
       "              [-0.19211864]], dtype=float32))"
      ]
     },
     "execution_count": 10,
     "metadata": {
      "tags": []
     },
     "output_type": "execute_result"
    }
   ],
   "source": [
    "def model2(theta, X):   # model is actually same but here instead of loops, I multiply the whole matrix\n",
    "  return sigmoid(X@theta)\n",
    "\n",
    "def L(theta,x,y):\n",
    "  y_hat = model2(theta, x)\n",
    "  y = y.astype('float32')\n",
    "  y_hat = y_hat.astype('float32')\n",
    "  \n",
    "  sum = jnp.sum(-1*y*jnp.log(y_hat)-(1-y)*jnp.log(1-y_hat))\n",
    "  return sum/len(x)\n",
    "\n",
    "np.random.seed(0)\n",
    "theta_init = np.random.randn(2,1)/10\n",
    "\n",
    "dL = jax.value_and_grad(L)\n",
    "\n",
    "dL(theta_init,X,y)"
   ]
  },
  {
   "cell_type": "markdown",
   "metadata": {
    "id": "dFasyvr1ybKu"
   },
   "source": [
    "As seen, the gradient values hold to some precision."
   ]
  },
  {
   "cell_type": "markdown",
   "metadata": {
    "id": "57xaACyVpUvD"
   },
   "source": [
    "### b)"
   ]
  },
  {
   "cell_type": "code",
   "execution_count": 11,
   "metadata": {
    "id": "BCJGg_P5MF_z"
   },
   "outputs": [],
   "source": [
    "def gradientDescent(K, eta, theta, X, y):\n",
    "\n",
    "  for i in range(K):\n",
    "    obj = dL(theta,X,y)\n",
    "    loss = obj[0]\n",
    "    dTheta = obj[1]\n",
    "    theta -= eta*dTheta\n",
    "  \n",
    "  return theta\n"
   ]
  },
  {
   "cell_type": "code",
   "execution_count": 12,
   "metadata": {
    "id": "0KGQd1LPPGpF"
   },
   "outputs": [],
   "source": [
    "theta_optimal = gradientDescent(10000,0.05,theta_init,X,y)"
   ]
  },
  {
   "cell_type": "code",
   "execution_count": 13,
   "metadata": {
    "colab": {
     "base_uri": "https://localhost:8080/"
    },
    "id": "kApuSMP8ptPb",
    "outputId": "a03cfed5-00a9-497d-c6a0-8a5cd4aec1f4"
   },
   "outputs": [
    {
     "name": "stdout",
     "output_type": "stream",
     "text": [
      "Optimal parameters: [-0.04136017] [10.1252575]\n"
     ]
    }
   ],
   "source": [
    "print(\"Optimal parameters: \"+str(theta_optimal[0])+\" \"+str(theta_optimal[1]))"
   ]
  },
  {
   "cell_type": "markdown",
   "metadata": {
    "id": "pk3IVdnPpo5r"
   },
   "source": [
    "### c)"
   ]
  },
  {
   "cell_type": "code",
   "execution_count": 14,
   "metadata": {
    "colab": {
     "base_uri": "https://localhost:8080/"
    },
    "id": "x3hcGw91pobD",
    "outputId": "eab1edb1-0aa5-4ab8-c059-a4f92be00d0f"
   },
   "outputs": [
    {
     "name": "stdout",
     "output_type": "stream",
     "text": [
      "Accuracy 0.96\n"
     ]
    }
   ],
   "source": [
    "def predict(theta,X):\n",
    "\n",
    "  pred_y = sigmoid(X@theta)\n",
    "  pred_y = np.array(pred_y)\n",
    "  for i in range(len(pred_y)):\n",
    "    if pred_y[i,0]>0.5:\n",
    "      pred_y[i,0] = 1\n",
    "    else:\n",
    "      pred_y[i,0] = 0\n",
    "\n",
    "  return pred_y\n",
    "\n",
    "\n",
    "pred_y = predict(theta_optimal,X)\n",
    "\n",
    "def accuracy(pred_y,y):\n",
    "  count = 0\n",
    "  for i,j in zip(pred_y, y):\n",
    "    if i==j:\n",
    "      count+=1\n",
    "\n",
    "  return count/100\n",
    "\n",
    "print(\"Accuracy\", accuracy(pred_y,y))\n"
   ]
  },
  {
   "cell_type": "markdown",
   "metadata": {
    "id": "GnrW0RiqwPF0"
   },
   "source": [
    "### d)"
   ]
  },
  {
   "cell_type": "code",
   "execution_count": 25,
   "metadata": {
    "colab": {
     "base_uri": "https://localhost:8080/",
     "height": 269
    },
    "id": "BTlhfYU3wOkE",
    "outputId": "e5942fe7-b447-49e3-cbc6-917870bd8345"
   },
   "outputs": [
    {
     "data": {
      "image/png": "[encoded data removed]",
      "text/plain": [
       "<Figure size 432x288 with 1 Axes>"
      ]
     },
     "metadata": {
      "needs_background": "light",
      "tags": []
     },
     "output_type": "display_data"
    }
   ],
   "source": [
    "\n",
    "no_pts = 100\n",
    "x_1 = np.linspace(-11.5, -6, no_pts)\n",
    "x_2 = np.linspace(-1.5, 1.5, no_pts)\n",
    "x_1_grid, x_2_grid = np.meshgrid(x_1, x_2)\n",
    "p_grid = sigmoid(x_1_grid*theta_optimal[0]+x_2_grid*theta_optimal[1])\n",
    "p_grid = np.array(p_grid)\n",
    "\n",
    "\n",
    "colors = []\n",
    "for i in range(100):\n",
    "  if i<50:\n",
    "    colors.append('r')\n",
    "  else:\n",
    "    colors.append('b')\n",
    "\n",
    "fig, ax = plt.subplots()\n",
    "ax.scatter(X[:,0:1],X[:,1:2],color=colors)\n",
    "ax.contour(x_1_grid, x_2_grid, p_grid, levels=[.5]);"
   ]
  },
  {
   "cell_type": "markdown",
   "metadata": {
    "id": "loFrTLlAeVGF"
   },
   "source": [
    "## Question 3\n",
    "\n",
    "### a)\n",
    "\n",
    "The model is an artificial neural network with one hidden layer. \n",
    "\n",
    "$$ f_0 = x_i $$\n",
    "$$ f_1 = \\sigma(W_1.f_0) =\\sigma(z_1) $$\n",
    "$$ f_2 = \\sigma(w_2^T.f_1) = \\hat{y_i} =\\sigma(z_2) $$\n",
    "\n",
    "Call the logloss function $L$.\n",
    "$$ \\frac{\\partial L}{\\partial w_2} =\\frac{1}{N}. \\sum_{i=1}^{N} \\frac{\\partial L}{\\partial \\hat{y_i}}. \\frac{\\partial \\hat{y_i}}{\\partial w_2}\n",
    "= \\frac{1}{N}. \\sum_{i=1}^{N} \\frac{\\partial L}{\\partial \\hat{y_i}}. \\frac{\\partial \\hat{y_i}}{\\partial z_2} .\\frac{\\partial z_2}{\\partial w_2}$$\n",
    "\n",
    "$$ \\frac{\\partial L}{\\partial W_1} =\\frac{1}{N}. \\sum_{i=1}^{N} \\frac{\\partial L}{\\partial \\hat{y_i}}. \\frac{\\partial \\hat{y_i}}{\\partial f_1}.\n",
    "\\frac{\\partial f_1}{\\partial W_1} $$\n",
    "\n",
    "for jth index of $w_2$:\n",
    "\n",
    "$$\\frac{\\partial L}{\\partial {w_2}_i} =\\frac{1}{N}. \\sum_{i=1}^{N} \\frac{\\partial L}{\\partial \\hat{y_i}}. \\frac{\\partial \\hat{y_i}}{\\partial {w_2}_i}\n",
    "= \\frac{1}{N}. \\sum_{i=1}^{N} \\frac{\\partial L}{\\partial \\hat{y_i}}. \\frac{\\partial \\hat{y_i}}{\\partial z_2} .\\frac{\\partial z_2}{\\partial {w_2}_i}\n",
    "$$\n",
    "\n",
    "$$\n",
    "= \\frac{1}{N}. \\sum_{i=1}^{N} \\frac{\\partial L}{\\partial \\hat{y_i}}.\\sigma(z_2).(1-\\sigma(z_2)).f_{1j}\n",
    "$$\n",
    "\n",
    "In the following code, I implemented the gradient for $w_2$ manually.\n",
    "\n"
   ]
  },
  {
   "cell_type": "code",
   "execution_count": 17,
   "metadata": {
    "colab": {
     "base_uri": "https://localhost:8080/"
    },
    "id": "S1Syl3A0Ozsz",
    "outputId": "be25059b-1f4f-46ea-98d1-c7821bad2174"
   },
   "outputs": [
    {
     "data": {
      "text/plain": [
       "[DeviceArray(0.01186303, dtype=float32),\n",
       " DeviceArray(0.00444533, dtype=float32),\n",
       " DeviceArray(0.01549518, dtype=float32),\n",
       " DeviceArray(0.01434932, dtype=float32),\n",
       " DeviceArray(0.00827241, dtype=float32)]"
      ]
     },
     "execution_count": 17,
     "metadata": {
      "tags": []
     },
     "output_type": "execute_result"
    }
   ],
   "source": [
    "np.random.seed(0)\n",
    "W_1_init = np.random.randn(5, 2)/10\n",
    "w_2_init = np.random.randn(5)/10\n",
    "\n",
    "def dLdw2(X,y,W1,w2,index):\n",
    "\n",
    "  \n",
    "  gradients=[]\n",
    "\n",
    "  for j in range(5):\n",
    "    sum = 0\n",
    "    for i in range(len(X)):\n",
    "      x = X[i]\n",
    "      yi = y[i][0]\n",
    "      y_hat_i = sigmoid(w2.T@sigmoid(W1@x))\n",
    "      a=dLdy(y_hat_i,yi,100)\n",
    "      z2 = w2.T@sigmoid(W1@x)\n",
    "      f1 = sigmoid(W1@x)\n",
    "      b = sigmoid(z2)*(1-sigmoid(z2))*f1[index-1]\n",
    "      sum += a*b  #for theta \n",
    "    index+=1\n",
    "    gradients.append(sum)\n",
    "\n",
    "  return gradients\n",
    "\n",
    "dLdw2(X,y,W_1_init,w_2_init,1)\n",
    "\n",
    "\n"
   ]
  },
  {
   "cell_type": "markdown",
   "metadata": {
    "id": "DqPCCZqWJ0hm"
   },
   "source": [
    "In the following code, I got the gradient with JAX."
   ]
  },
  {
   "cell_type": "code",
   "execution_count": 18,
   "metadata": {
    "colab": {
     "base_uri": "https://localhost:8080/"
    },
    "id": "kLSRNAg_gPi7",
    "outputId": "d3d8ff47-87a6-4e8c-bf6d-10d437a1cc06"
   },
   "outputs": [
    {
     "data": {
      "text/plain": [
       "(DeviceArray(0.6947611, dtype=float32),\n",
       " [DeviceArray([[-0.00027884, -0.00042362],\n",
       "               [ 0.00609088, -0.00600699],\n",
       "               [-0.00333379, -0.00213887],\n",
       "               [ 0.0001179 , -0.00051192],\n",
       "               [ 0.00183163, -0.00218804]], dtype=float32),\n",
       "  DeviceArray([0.01186304, 0.00444532, 0.01549519, 0.01434932, 0.00827242],            dtype=float32)])"
      ]
     },
     "execution_count": 18,
     "metadata": {
      "tags": []
     },
     "output_type": "execute_result"
    }
   ],
   "source": [
    "def nn_model(W1, w2, x):\n",
    "  return sigmoid((sigmoid(W1@x.T)).T@w2)\n",
    "\n",
    "def L2(parameters,X,y):\n",
    "\n",
    "  W1=parameters[0]\n",
    "  w2=parameters[1]\n",
    "  \n",
    "  y_hat = nn_model(W1,w2,X)\n",
    "  \n",
    "  y = y.astype('float32')\n",
    "  y_hat = y_hat.astype('float32')\n",
    "  y_hat = jnp.expand_dims(y_hat,axis=1)\n",
    "  sum = jnp.sum(-1*y*jnp.log(y_hat)-(1-y)*jnp.log(1-y_hat))\n",
    "  return sum/len(X)\n",
    "\n",
    "\n",
    "dL2 = jax.value_and_grad(L2)\n",
    "\n",
    "dL2([W_1_init,w_2_init],X,y)"
   ]
  },
  {
   "cell_type": "markdown",
   "metadata": {
    "id": "xpO7B4YIiCrT"
   },
   "source": [
    "If checked, we can see that the reusults hold with jax built in gradient function. "
   ]
  },
  {
   "cell_type": "markdown",
   "metadata": {
    "id": "rDKyHD8PeZ5V"
   },
   "source": [
    "### b)\n",
    "\n",
    "\n",
    "$$ y \\approx \\hat{y} = \\sigma({w_2}^T.(\\sigma(W_1.x))$$"
   ]
  },
  {
   "cell_type": "code",
   "execution_count": 19,
   "metadata": {
    "id": "DBoXwqhkeTzG"
   },
   "outputs": [],
   "source": [
    "def gradientDescent2(K, eta, parameters, X, y):\n",
    "  W1=parameters[0]\n",
    "  w2=parameters[1]\n",
    "  loss = 0\n",
    "  for i in range(K):\n",
    "    \n",
    "    obj = dL2(parameters,X,y)\n",
    "    loss = obj[0]\n",
    "    dW1 = obj[1][0]\n",
    "    dw2 = obj[1][1]\n",
    "    parameters[0] -= eta*dW1\n",
    "    parameters[1] -= eta*dw2\n",
    "  \n",
    "  return parameters,loss"
   ]
  },
  {
   "cell_type": "code",
   "execution_count": 20,
   "metadata": {
    "colab": {
     "base_uri": "https://localhost:8080/"
    },
    "id": "qD_oBaHviFb_",
    "outputId": "21eb2db0-6dd2-4b6d-bf84-7dbe874df1a6"
   },
   "outputs": [
    {
     "name": "stdout",
     "output_type": "stream",
     "text": [
      "Optimal parameters:  [DeviceArray([[ 0.07696449, -2.5675242 ],\n",
      "             [-0.08570719,  4.9797125 ],\n",
      "             [ 0.07757735, -3.468717  ],\n",
      "             [ 0.07776392, -3.5265408 ],\n",
      "             [-0.09593927,  0.7358318 ]], dtype=float32), DeviceArray([-3.1289344 ,  5.4881005 , -4.1036425 , -4.1744328 ,\n",
      "              0.87454337], dtype=float32)]\n",
      "Loss:  0.10645004\n"
     ]
    }
   ],
   "source": [
    "parameters,loss = gradientDescent2(10000,0.05,[W_1_init,w_2_init],X,y)\n",
    "\n",
    "print(\"Optimal parameters: \",parameters)\n",
    "print(\"Loss: \",loss)"
   ]
  },
  {
   "cell_type": "markdown",
   "metadata": {
    "id": "CPYYyow8JPHd"
   },
   "source": [
    "### c)\n"
   ]
  },
  {
   "cell_type": "code",
   "execution_count": 21,
   "metadata": {
    "id": "v7rBH1T8hryu"
   },
   "outputs": [],
   "source": [
    "W1 = parameters[0]\n",
    "w2 = parameters[1]"
   ]
  },
  {
   "cell_type": "code",
   "execution_count": 22,
   "metadata": {
    "id": "enli9AWeJcMB"
   },
   "outputs": [],
   "source": [
    "def predict2(W1,w2,X):\n",
    "\n",
    "  pred_y = nn_model(W1,w2,X)\n",
    "  pred_y = np.array(pred_y)\n",
    "\n",
    "  for i in range(len(pred_y)):\n",
    "    if pred_y[i]>0.5:\n",
    "      pred_y[i] = 1\n",
    "    else:\n",
    "      pred_y[i] = 0\n",
    "\n",
    "  return pred_y\n"
   ]
  },
  {
   "cell_type": "code",
   "execution_count": 23,
   "metadata": {
    "colab": {
     "base_uri": "https://localhost:8080/"
    },
    "id": "-ic-WdzmJ2y5",
    "outputId": "65a7aef0-3924-45df-bb6d-7e7cea8aa2d1"
   },
   "outputs": [
    {
     "data": {
      "text/plain": [
       "0.97"
      ]
     },
     "execution_count": 23,
     "metadata": {
      "tags": []
     },
     "output_type": "execute_result"
    }
   ],
   "source": [
    "pred = predict2(W1,w2,X)\n",
    "accuracy(pred,y)"
   ]
  },
  {
   "cell_type": "markdown",
   "metadata": {
    "id": "gfmuozymKvnR"
   },
   "source": [
    "### d)"
   ]
  },
  {
   "cell_type": "code",
   "execution_count": 24,
   "metadata": {
    "colab": {
     "base_uri": "https://localhost:8080/",
     "height": 269
    },
    "id": "hteOrZXQKutb",
    "outputId": "a6db4903-89fc-46e6-9684-27385596df7d"
   },
   "outputs": [
    {
     "data": {
      "image/png": "[encoded data removed]",
      "text/plain": [
       "<Figure size 432x288 with 1 Axes>"
      ]
     },
     "metadata": {
      "needs_background": "light",
      "tags": []
     },
     "output_type": "display_data"
    }
   ],
   "source": [
    "no_pts = 100\n",
    "x_1 = np.linspace(-11.5, -6, no_pts)\n",
    "x_2 = np.linspace(-1.5, 1.5, no_pts)\n",
    "x_1_grid, x_2_grid = np.meshgrid(x_1, x_2)\n",
    "p_grid = np.zeros((no_pts,no_pts))\n",
    "for i in range(no_pts):\n",
    "  for j in range(no_pts):\n",
    "    x_1 = x_1_grid[i, j]\n",
    "    x_2 = x_2_grid[i, j]\n",
    "    x =np.array([[x_1],[x_2]])\n",
    "    p_grid[i,j] = sigmoid(w2@(sigmoid(W1@x)))\n",
    "\n",
    "\n",
    "colors = []\n",
    "for i in range(100):\n",
    "  if i<50:\n",
    "    colors.append('r')\n",
    "  else:\n",
    "    colors.append('b')\n",
    "\n",
    "fig, ax = plt.subplots()\n",
    "ax.scatter(X[:,0:1],X[:,1:2],color=colors)\n",
    "ax.contour(x_1_grid, x_2_grid, p_grid, levels=[.5]);"
   ]
  },
  {
   "cell_type": "markdown",
   "metadata": {
    "id": "BLEBW8tyO3Vp"
   },
   "source": [
    "We see that for this case, both logistic regression and multilayer perceptron approaches brought success. MLP approach took more time since it has more computational procedures. While LR had 0.96 accuracy, MLP had 0.97 accuracy. This little improvement do not seem to be convincing against approximately 2 minutes of efficiency difference.  \n",
    "\n",
    "Decision boundaries also look similar. MLP has a slightly higher slope which yielded the improvement we sav in accuracies.    \n",
    "\n",
    "We could expect a nonlinear decision boundary from MLP since we introduce non linearity using the sigmoid function to a 2 step calculation where hidden layer nodes are also results of sigmoid. However, a linear boundary even handles the seperation of types with a low loss in our case. Maybe we could capture a few more observations correctly with adding a slight non-linearity to a piece if we had increased the number $K$, or number of layers, or changed the activation function. Note that single layer perceptron can not bring nonlinearty to the boundary.  \n",
    "\n",
    "On the other hand, we could not expect such a nonlinearity from logistic regression since there are only 2 decision parameters which will map the data points in a linear fashion."
   ]
  },
  {
   "cell_type": "markdown",
   "metadata": {
    "id": "Mc4626kZPLnJ"
   },
   "source": [
    "## Question 4\n",
    "\n",
    "### a)\n",
    "\n",
    "$K$ is the number of iterations to update parameters and $\\eta$ is the learning rate.   \n",
    "* $\\eta$ should be carefully determined since Gradient Descent is an algorithm that iterates with feedbacks and we would want that the evaluation of feedbacks be meaningful. If $\\eta$ is very large, we can not move precisely in our vector space and may move apart from the aimed local minimum with diverging effect of high learning rate. On the other hand, with a very low learning rate, the model would hardly adjust itself and yielding a proper accuracy would take too long. Therefore, picking $\\eta$ has a tradeoff.  \n",
    "\n",
    "* $K$ is more straightforward. If we increase $K$, the model increases more with more feedback, but the time efficiency drops. $K$ should be picked to be sufficiently accurate but also time efficient.  \n",
    "\n",
    "If we have possiblity to increase $K$, decreasing $\\eta$ may be useful to some extent. If we do not want to take it long, one can try a low $K$ with a higher $\\eta$ and trace the losses. If losses keep on decreasing, this would also work.\n",
    "\n",
    "Note that these arguments are to increase the performance of training set. As if think of test sets, we would seek for a generalized performance, not a model to memorize what we have in the training set. Therefore, increasing $K$ will always increase the performance over training set but may cause **overfitting**.  \n",
    "\n",
    "In short, we can begin with a small $K$ with high $\\eta$ and trace the losses. If losses seem to decrease coonsistently, there is not problem with $\\eta$. Else, I would decrease $\\eta$ and try again until there is no problem. Then if model works fast and performance is insufficient, we can increase $K$ until there is a sign of overfitting and time efficiency drops too much. "
   ]
  },
  {
   "cell_type": "markdown",
   "metadata": {
    "id": "bALfFM-cpTPj"
   },
   "source": [
    "### b)\n",
    "\n",
    "As I stated, we could expect a nonlinear and flexible boundary from MLP whereas LR is not eligible for that. However, in case of generalization, do we think that the whole data has a distribution with complex nonlinear patterns? No, see that blue points are generally in upper left part while red points are in bottom right. When the nature of the data is linear, introducing nonlinearity to the decision boundary may be useless and cause overfitting. Therefore, logistic regression is expected to have a better performance in sense of generalization. Adding that with proper parameters, we could build a successful generalized model with MLP too. "
   ]
  },
  {
   "cell_type": "markdown",
   "metadata": {
    "id": "_cBs0EALaDFw"
   },
   "source": [
    "### c)\n",
    "\n",
    "$p$ is the number of activation nodes in the hidden layer. $p$ directly determines the capacity of the system to keep imformation about the training set since increasing $p$ will bring more weights and adjustments will be more flexible.  \n",
    "\n",
    "As expected, if $p$ is too low, flexibility and capacity drops and one can encounter **underfitting**.   \n",
    "\n",
    "If $p$ is too high, most of the information in the training set will be stored in the weights of the neural networks, this will bring **overfitting**.  \n",
    "\n",
    "For generalization, $p$ should be adjusted to keep the essence of the data, and not to keep outliers.I read that having $p$ between the number of input nodes and output nodes is a rule of thumb. In our case, this may seem to be ridiculous, however in our case probably using MLP is also unnecessary since our dataset is linearly seperable. "
   ]
  },
  {
   "cell_type": "code",
   "execution_count": null,
   "metadata": {
    "id": "-GdmNxXkdhvR"
   },
   "outputs": [],
   "source": []
  }
 ],
 "metadata": {
  "colab": {
   "collapsed_sections": [],
   "name": "2017400171_gorkem_cmpe482_assignment_5.ipynb",
   "provenance": []
  },
  "kernelspec": {
   "display_name": "Python 3",
   "language": "python",
   "name": "python3"
  },
  "language_info": {
   "codemirror_mode": {
    "name": "ipython",
    "version": 3
   },
   "file_extension": ".py",
   "mimetype": "text/x-python",
   "name": "python",
   "nbconvert_exporter": "python",
   "pygments_lexer": "ipython3",
   "version": "3.8.5"
  }
 },
 "nbformat": 4,
 "nbformat_minor": 1
}
