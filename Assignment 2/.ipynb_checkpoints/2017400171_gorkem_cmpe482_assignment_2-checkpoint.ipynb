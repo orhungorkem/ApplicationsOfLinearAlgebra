{
 "cells": [
  {
   "cell_type": "markdown",
   "id": "numeric-february",
   "metadata": {},
   "source": [
    "# CMPE 482 ASSIGNMENT 2  \n",
    "\n",
    "**Name:** Orhun Görkem  \n",
    "\n",
    "**Student ID:** 2017400171"
   ]
  },
  {
   "cell_type": "code",
   "execution_count": 1,
   "id": "statistical-internet",
   "metadata": {},
   "outputs": [],
   "source": [
    "import numpy as np\n",
    "from matplotlib import pyplot as plt"
   ]
  },
  {
   "cell_type": "markdown",
   "id": "south-instruction",
   "metadata": {},
   "source": [
    "## Problem 1"
   ]
  },
  {
   "cell_type": "code",
   "execution_count": 29,
   "id": "cloudy-algeria",
   "metadata": {},
   "outputs": [],
   "source": [
    "v = np.array([4,-1])"
   ]
  },
  {
   "cell_type": "markdown",
   "id": "amino-recognition",
   "metadata": {},
   "source": [
    "### a.   \n",
    "The rotation matrix M to rotate a vector $\\theta$ counter clockwise is,  \n",
    "\n",
    "$$ R = \\begin{bmatrix}\n",
    "\\cos (\\theta) & -\\sin (\\theta) \\\\\n",
    "\\sin (\\theta) & \\cos (\\theta)\n",
    "\\end{bmatrix} $$  \n",
    "So for 30 degrees rotation, R can be implemented as,"
   ]
  },
  {
   "cell_type": "code",
   "execution_count": 30,
   "id": "centered-belize",
   "metadata": {},
   "outputs": [
    {
     "data": {
      "text/plain": [
       "array([[ 0.8660254, -0.5      ],\n",
       "       [ 0.5      ,  0.8660254]])"
      ]
     },
     "execution_count": 30,
     "metadata": {},
     "output_type": "execute_result"
    }
   ],
   "source": [
    "R = np.array([[np.cos(np.pi /6.),-1*np.sin(np.pi/6.)],[np.sin(np.pi/6.), np.cos(np.pi/6.)]])\n",
    "R"
   ]
  },
  {
   "cell_type": "markdown",
   "id": "racial-scope",
   "metadata": {},
   "source": [
    "### b.  \n",
    "Suppose the incline of vector $l$ with respect to horizontal line is $\\theta$.  \n",
    "The projection matrix P that projects other vectors onto $l$ is like the following,  \n",
    "\n",
    "$$ P = \\frac{1}{2}.\\begin{bmatrix}\n",
    "1 + \\cos (2\\theta) & \\sin (2\\theta) \\\\\n",
    "\\sin (2\\theta) & 1 - \\cos (2\\theta)\n",
    "\\end{bmatrix} $$ "
   ]
  },
  {
   "cell_type": "markdown",
   "id": "lucky-stylus",
   "metadata": {},
   "source": [
    "We want to project $v$ onto $l = [1,-1]$  \n",
    "With basic geometry, we can see that $l$ is 45 degrees below the horizontal, which makes $\\theta = \\frac{7.\\pi}{4}$"
   ]
  },
  {
   "cell_type": "markdown",
   "id": "blocked-remainder",
   "metadata": {},
   "source": [
    "$\\theta$ is in radians."
   ]
  },
  {
   "cell_type": "code",
   "execution_count": 31,
   "id": "sonic-worst",
   "metadata": {},
   "outputs": [
    {
     "data": {
      "text/plain": [
       "array([[ 0.5, -0.5],\n",
       "       [-0.5,  0.5]])"
      ]
     },
     "execution_count": 31,
     "metadata": {},
     "output_type": "execute_result"
    }
   ],
   "source": [
    "theta = np.pi*7/4\n",
    "P = 0.5*(np.array([[1 + np.cos(2*theta),np.sin(2*theta)],[np.sin(2*theta), 1 - np.cos(2*theta)]]))\n",
    "P"
   ]
  },
  {
   "cell_type": "markdown",
   "id": "confused-harvest",
   "metadata": {},
   "source": [
    "### c."
   ]
  },
  {
   "cell_type": "code",
   "execution_count": 68,
   "id": "christian-relief",
   "metadata": {},
   "outputs": [],
   "source": [
    "rotated = R@v\n",
    "projected = P@v"
   ]
  },
  {
   "cell_type": "code",
   "execution_count": 86,
   "id": "sought-illness",
   "metadata": {},
   "outputs": [
    {
     "data": {
      "image/png": "[encoded data removed]",
      "text/plain": [
       "<Figure size 576x576 with 1 Axes>"
      ]
     },
     "metadata": {
      "needs_background": "light"
     },
     "output_type": "display_data"
    }
   ],
   "source": [
    "%matplotlib inline\n",
    "f = plt.figure()\n",
    "f.set_figwidth(8)\n",
    "f.set_figheight(8)\n",
    "\n",
    "x=np.linspace(-10,10,500)\n",
    "plt.xlabel('X',size=15)\n",
    "plt.ylabel('Y',size=15)\n",
    "plt.xlim([-5,5])\n",
    "plt.ylim([-5,5])\n",
    "origin = np.array([0, 0]) # origin point\n",
    "q1 = plt.quiver(*origin, v[0], v[1], color=['r'], scale=10)\n",
    "q2 = plt.quiver(*origin, rotated[0], rotated[1], color=['g'], scale=10)\n",
    "q3 = plt.quiver(*origin, projected[0], projected[1], color=['b'], scale=10)\n",
    "plt.quiverkey(q1, 4.2, -1, 0.0000003, 'original', coordinates='data')\n",
    "plt.quiverkey(q2, 4, 1.4, 0.0000001, 'rotated', coordinates='data')\n",
    "plt.quiverkey(q3, 3, -3, 0.0000001, 'projected', coordinates='data')\n",
    "plt.grid()"
   ]
  },
  {
   "cell_type": "markdown",
   "id": "strong-family",
   "metadata": {},
   "source": [
    "### d. "
   ]
  },
  {
   "cell_type": "code",
   "execution_count": 7,
   "id": "choice-walnut",
   "metadata": {},
   "outputs": [
    {
     "name": "stdout",
     "output_type": "stream",
     "text": [
      "Norm of original vector: 4.123105625617661\n",
      "Norm of rotated vector: 4.123105625617661\n",
      "Norm of projected vector: 3.5355339059327373\n"
     ]
    }
   ],
   "source": [
    "print(\"Norm of original vector: \"+ str(np.linalg.norm(v)))\n",
    "print(\"Norm of rotated vector: \"+ str(np.linalg.norm(rotated)))\n",
    "print(\"Norm of projected vector: \"+ str(np.linalg.norm(projected)))"
   ]
  },
  {
   "cell_type": "markdown",
   "id": "useful-stomach",
   "metadata": {},
   "source": [
    "We see that norms of v and rotated vector are similar whereas projected vector has a lower norm."
   ]
  },
  {
   "cell_type": "markdown",
   "id": "brazilian-ceiling",
   "metadata": {},
   "source": [
    "### e."
   ]
  },
  {
   "cell_type": "code",
   "execution_count": 90,
   "id": "numeric-albert",
   "metadata": {},
   "outputs": [
    {
     "data": {
      "image/png": "[encoded data removed]",
      "text/plain": [
       "<Figure size 576x576 with 1 Axes>"
      ]
     },
     "metadata": {
      "needs_background": "light"
     },
     "output_type": "display_data"
    }
   ],
   "source": [
    "%matplotlib inline\n",
    "f = plt.figure()\n",
    "f.set_figwidth(8)\n",
    "f.set_figheight(8)\n",
    "\n",
    "x=np.linspace(-10,10,500)\n",
    "plt.xlabel('X',size=15)\n",
    "plt.ylabel('Y',size=15)\n",
    "plt.xlim([-2,2])\n",
    "plt.ylim([-2,2])\n",
    "origin = np.array([0, 0]) # origin point\n",
    "q1 = plt.quiver(*origin, R[0][0], R[1][0], color=['r'], scale=4)\n",
    "q2 = plt.quiver(*origin, R[0][1], R[1][1], color=['r'], scale=4)\n",
    "q3 = plt.quiver(*origin, P[0][0], P[1][0], color=['b'], scale=4)\n",
    "q4 = plt.quiver(*origin, P[0][1], P[1][1], color=['b'], scale=4)\n",
    "plt.quiverkey(q1, -0.5, 1, 0.0000003, 'R', coordinates='data')\n",
    "plt.quiverkey(q4, 0.6, -0.7, 0.0000003, 'P', coordinates='data')\n",
    "plt.grid()"
   ]
  },
  {
   "cell_type": "markdown",
   "id": "heavy-commission",
   "metadata": {},
   "source": [
    "First, let me explain why rotated and original vector norms must be same.  \n",
    "We know that \n",
    "$$ r = R.v $$\n",
    "if r is the rotated version of v for some specific theta.\n",
    "Then, \n",
    "$$ r = \\sum_{}^{} c^{(i)}.v_{i} $$"
   ]
  },
  {
   "cell_type": "markdown",
   "id": "binary-roman",
   "metadata": {},
   "source": [
    "where $c^{(i)}$ is the ith column of R and $v_{i}$ is the ith index of v."
   ]
  },
  {
   "cell_type": "markdown",
   "id": "limited-leader",
   "metadata": {},
   "source": [
    "$$||r||^2 =  ||\\sum_{}^{} c^{(i)}.v_{i}||^2  =  \\sum_{}^{} ||c^{(i)}||^2.(v_{i})^2 $$"
   ]
  },
  {
   "cell_type": "markdown",
   "id": "purple-occasions",
   "metadata": {},
   "source": [
    "Adding that this equation holds if the all columns are orthogonal to each other, which holds in our case. See that columns of R has norm 1, by the following trigonometric identity,  \n",
    "$$ \\sin^2(\\theta) + \\cos^2(\\theta) = 1 $$  \n",
    "So actually, R has orthonormal columns.  "
   ]
  },
  {
   "cell_type": "markdown",
   "id": "greater-national",
   "metadata": {},
   "source": [
    "$$||r||^2 =  ||\\sum_{}^{} c^{(i)}.v_{i}||^2  =  \\sum_{}^{} ||c^{(i)}||^2.(v_{i})^2 $$   \n",
    "$$||r||^2  =  \\sum_{}^{} (v_{i})^2 = ||v||^2 $$"
   ]
  },
  {
   "cell_type": "markdown",
   "id": "first-wireless",
   "metadata": {},
   "source": [
    "Now we can explain the behavior of P.  \n",
    "$$ P = \\frac{1}{2}.\\begin{bmatrix}\n",
    "1 + \\cos (2\\theta) & \\sin (2\\theta) \\\\\n",
    "\\sin (2\\theta) & 1 - \\cos (2\\theta)\n",
    "\\end{bmatrix} $$ "
   ]
  },
  {
   "cell_type": "markdown",
   "id": "cloudy-style",
   "metadata": {},
   "source": [
    "See that columns of P must be linearly dependent since  \n",
    "$$(1 + \\cos{(2\\theta)}).(1 - \\cos{(2\\theta)}) = {\\sin{(2\\theta})}^2 $$  \n",
    "$$\\det{P} = 0$$\n",
    "\n",
    "So the columns of matrix P can be seen as \n",
    "\n",
    "$$ P = \\begin{bmatrix}\n",
    "c_1 & k.c_1 \n",
    "\\end{bmatrix} $$ \n",
    "\n",
    "where $c_1$ is the first column of $P$ and $k=\\frac{\\sin{(2\\theta)}}{1+\\cos{(2\\theta)}}$"
   ]
  },
  {
   "cell_type": "markdown",
   "id": "sunrise-breach",
   "metadata": {},
   "source": [
    "Then, \n",
    "$$p=P.v= \\begin{bmatrix} v_1.c_1+k.v_2.c_1 \\end{bmatrix} = (v_1+k.v_2).c_1 $$  \n",
    "where $v_1$ and $v_2$ are indices of $v$."
   ]
  },
  {
   "cell_type": "markdown",
   "id": "quantitative-lottery",
   "metadata": {},
   "source": [
    "$$ ||p||^2 = (v_1+k.v_2)^2.||c_1||^2 $$ \n",
    "\n",
    "Thus, norm of p has no clear correlation with norm v since the angle $\\theta$ determines k and $c_1$."
   ]
  },
  {
   "cell_type": "markdown",
   "id": "advised-telescope",
   "metadata": {},
   "source": [
    "## Problem 2"
   ]
  },
  {
   "cell_type": "code",
   "execution_count": 17,
   "id": "verified-agenda",
   "metadata": {},
   "outputs": [
    {
     "data": {
      "text/plain": [
       "array([-0.98524609,  0.23991596, -1.14647037,  0.20305621,  1.01048051])"
      ]
     },
     "execution_count": 17,
     "metadata": {},
     "output_type": "execute_result"
    }
   ],
   "source": [
    "v = np.random.normal(0, 1, 5)\n",
    "v"
   ]
  },
  {
   "cell_type": "markdown",
   "id": "running-transportation",
   "metadata": {},
   "source": [
    "### a."
   ]
  },
  {
   "cell_type": "markdown",
   "id": "christian-scheduling",
   "metadata": {},
   "source": [
    "Now we should define a matrix S such that it sorts v in ascending order. To do that, S should consist of 5 rows where each has only one 1 and remaining 0's. The indices for ones should provide the correct permutation for correct sorting. "
   ]
  },
  {
   "cell_type": "code",
   "execution_count": 22,
   "id": "provincial-appeal",
   "metadata": {},
   "outputs": [
    {
     "data": {
      "text/plain": [
       "array([[0., 0., 1., 0., 0.],\n",
       "       [1., 0., 0., 0., 0.],\n",
       "       [0., 0., 0., 1., 0.],\n",
       "       [0., 1., 0., 0., 0.],\n",
       "       [0., 0., 0., 0., 1.]])"
      ]
     },
     "execution_count": 22,
     "metadata": {},
     "output_type": "execute_result"
    }
   ],
   "source": [
    "order = [3,1,4,2,5]\n",
    "S = np.zeros((5,5))\n",
    "for i in range(5):\n",
    "    S[i][order[i]-1]=1\n",
    "    \n",
    "S"
   ]
  },
  {
   "cell_type": "code",
   "execution_count": 23,
   "id": "peripheral-beads",
   "metadata": {},
   "outputs": [
    {
     "data": {
      "text/plain": [
       "array([-0.98524609,  0.23991596, -1.14647037,  0.20305621,  1.01048051])"
      ]
     },
     "execution_count": 23,
     "metadata": {},
     "output_type": "execute_result"
    }
   ],
   "source": [
    "v"
   ]
  },
  {
   "cell_type": "code",
   "execution_count": 27,
   "id": "opened-delight",
   "metadata": {},
   "outputs": [
    {
     "data": {
      "text/plain": [
       "array([-1.14647037, -0.98524609,  0.20305621,  0.23991596,  1.01048051])"
      ]
     },
     "execution_count": 27,
     "metadata": {},
     "output_type": "execute_result"
    }
   ],
   "source": [
    "vs = S@v\n",
    "vs"
   ]
  },
  {
   "cell_type": "markdown",
   "id": "accessible-scholar",
   "metadata": {},
   "source": [
    "### b."
   ]
  },
  {
   "cell_type": "markdown",
   "id": "magnetic-cincinnati",
   "metadata": {},
   "source": [
    "We are now defining matrix K to reverse a vector. If we fill the matrix with ones in reverse diagonal, the ones in each row will bring the reverse order element to the result matrix."
   ]
  },
  {
   "cell_type": "code",
   "execution_count": 28,
   "id": "running-coalition",
   "metadata": {},
   "outputs": [
    {
     "data": {
      "text/plain": [
       "array([[0., 0., 0., 0., 1.],\n",
       "       [0., 0., 0., 1., 0.],\n",
       "       [0., 0., 1., 0., 0.],\n",
       "       [0., 1., 0., 0., 0.],\n",
       "       [1., 0., 0., 0., 0.]])"
      ]
     },
     "execution_count": 28,
     "metadata": {},
     "output_type": "execute_result"
    }
   ],
   "source": [
    "K = np.zeros((5,5))\n",
    "for i in range(5):\n",
    "    K[i][4-i]=1\n",
    "\n",
    "K    "
   ]
  },
  {
   "cell_type": "code",
   "execution_count": 29,
   "id": "gothic-pierre",
   "metadata": {},
   "outputs": [
    {
     "data": {
      "text/plain": [
       "array([ 1.01048051,  0.23991596,  0.20305621, -0.98524609, -1.14647037])"
      ]
     },
     "execution_count": 29,
     "metadata": {},
     "output_type": "execute_result"
    }
   ],
   "source": [
    "vk = K@vs\n",
    "vk"
   ]
  },
  {
   "cell_type": "markdown",
   "id": "european-alabama",
   "metadata": {},
   "source": [
    "### c."
   ]
  },
  {
   "cell_type": "code",
   "execution_count": 30,
   "id": "atlantic-orientation",
   "metadata": {},
   "outputs": [
    {
     "data": {
      "text/plain": [
       "array([-1.14647037,  1.01048051,  0.23991596,  0.20305621, -0.98524609])"
      ]
     },
     "execution_count": 30,
     "metadata": {},
     "output_type": "execute_result"
    }
   ],
   "source": [
    "vz = S@(K@v)\n",
    "vz"
   ]
  },
  {
   "cell_type": "markdown",
   "id": "ordinary-bleeding",
   "metadata": {},
   "source": [
    "$v_{z}$ and $v_{k}$ are different because the S matrix can only sort the vectors in the given specific order. The sorting operation can not be generic because that requires additional data to keep in matrix."
   ]
  },
  {
   "cell_type": "markdown",
   "id": "relevant-field",
   "metadata": {},
   "source": [
    "### d."
   ]
  },
  {
   "cell_type": "code",
   "execution_count": 41,
   "id": "opponent-booking",
   "metadata": {},
   "outputs": [
    {
     "data": {
      "text/plain": [
       "array([[0., 0., 0., 0., 1.],\n",
       "       [0., 1., 0., 0., 0.],\n",
       "       [0., 0., 0., 1., 0.],\n",
       "       [1., 0., 0., 0., 0.],\n",
       "       [0., 0., 1., 0., 0.]])"
      ]
     },
     "execution_count": 41,
     "metadata": {},
     "output_type": "execute_result"
    }
   ],
   "source": [
    "S2 = []\n",
    "for i in range(5):\n",
    "    S2.append(K@S[:,i])\n",
    "S2 = np.array(S2)\n",
    "S2=S2.T\n",
    "S2"
   ]
  },
  {
   "cell_type": "markdown",
   "id": "developing-camera",
   "metadata": {},
   "source": [
    "See that this is actually multiplying S by K."
   ]
  },
  {
   "cell_type": "code",
   "execution_count": 44,
   "id": "expanded-strategy",
   "metadata": {},
   "outputs": [
    {
     "data": {
      "text/plain": [
       "array([[0., 0., 0., 0., 1.],\n",
       "       [0., 1., 0., 0., 0.],\n",
       "       [0., 0., 0., 1., 0.],\n",
       "       [1., 0., 0., 0., 0.],\n",
       "       [0., 0., 1., 0., 0.]])"
      ]
     },
     "execution_count": 44,
     "metadata": {},
     "output_type": "execute_result"
    }
   ],
   "source": [
    "S2 = K@S\n",
    "S2"
   ]
  },
  {
   "cell_type": "code",
   "execution_count": 42,
   "id": "subject-booking",
   "metadata": {},
   "outputs": [
    {
     "data": {
      "text/plain": [
       "array([ 1.01048051,  0.23991596,  0.20305621, -0.98524609, -1.14647037])"
      ]
     },
     "execution_count": 42,
     "metadata": {},
     "output_type": "execute_result"
    }
   ],
   "source": [
    "vh = S2@v\n",
    "vh"
   ]
  },
  {
   "cell_type": "markdown",
   "id": "minute-preview",
   "metadata": {},
   "source": [
    "$v_{h}$ and $v_{k}$ are now same because by reversing the columns of S, we converted it to a sorting matrix for descending order, which is basically same thing with sorting in ascending order and reversing as in the case of $v_{k}$."
   ]
  },
  {
   "cell_type": "markdown",
   "id": "certified-springer",
   "metadata": {},
   "source": [
    "### e."
   ]
  },
  {
   "cell_type": "markdown",
   "id": "golden-arnold",
   "metadata": {},
   "source": [
    "To sum up,  \n",
    "$$v_{s} = S.v $$\n",
    "$$v_{k} = K.(S.v) $$\n",
    "$$v_{z} = S.K.v $$\n",
    "$$v_{h} = (K.S).v $$\n"
   ]
  },
  {
   "cell_type": "markdown",
   "id": "elementary-merchant",
   "metadata": {},
   "source": [
    "From $v_{z}$ differing from others, we see that matrix multiplication is not commutative. From $v_{k}=v_{h}$, we see that matrix multiplication is associative."
   ]
  },
  {
   "cell_type": "markdown",
   "id": "focal-calvin",
   "metadata": {},
   "source": [
    "## Problem 3  \n",
    "### a."
   ]
  },
  {
   "cell_type": "code",
   "execution_count": 7,
   "id": "designed-fourth",
   "metadata": {},
   "outputs": [],
   "source": [
    "v = [1,-4,3,7,0,-3]\n",
    "\n",
    "T = np.zeros((4,6))\n",
    "for i in range(4):\n",
    "        T[i][i]=0.1\n",
    "        T[i][i+1]=0.3\n",
    "        T[i][i+2]=0.6\n",
    "v2=T@v\n",
    "\n"
   ]
  },
  {
   "cell_type": "code",
   "execution_count": 8,
   "id": "congressional-female",
   "metadata": {},
   "outputs": [
    {
     "data": {
      "text/plain": [
       "array([[0.1, 0.3, 0.6, 0. , 0. , 0. ],\n",
       "       [0. , 0.1, 0.3, 0.6, 0. , 0. ],\n",
       "       [0. , 0. , 0.1, 0.3, 0.6, 0. ],\n",
       "       [0. , 0. , 0. , 0.1, 0.3, 0.6]])"
      ]
     },
     "execution_count": 8,
     "metadata": {},
     "output_type": "execute_result"
    }
   ],
   "source": [
    "T"
   ]
  },
  {
   "cell_type": "code",
   "execution_count": 9,
   "id": "governmental-shannon",
   "metadata": {},
   "outputs": [
    {
     "data": {
      "text/plain": [
       "array([ 0.7,  4.7,  2.4, -1.1])"
      ]
     },
     "execution_count": 9,
     "metadata": {},
     "output_type": "execute_result"
    }
   ],
   "source": [
    "v2"
   ]
  },
  {
   "cell_type": "markdown",
   "id": "material-foundation",
   "metadata": {},
   "source": [
    "### b.  \n",
    "\n",
    "Yes T corresponds to a linear function.  \n",
    "Let $f:\\mathbb{R}^{6}\\dashrightarrow \\mathbb{R}^{4}$ be a function defined as:  \n",
    "$$ f(x) = T.x $$\n",
    "Then ,\n",
    "$$ f(\\alpha.x + \\beta.y) = T(\\alpha.x + \\beta.y) $$\n",
    "$$ f(\\alpha.x + \\beta.y) = \\alpha.T.x + \\beta.T.y) $$\n",
    "$$ f(\\alpha.x + \\beta.y) = \\alpha.f(x) + \\beta.f(y) $$\n",
    "where $\\alpha, \\beta \\in \\mathbb{R}$ and $x,y \\in \\mathbb{R}^{6}$  \n",
    "Thus $f$ is a linear function."
   ]
  },
  {
   "cell_type": "markdown",
   "id": "tracked-colleague",
   "metadata": {},
   "source": [
    "### c."
   ]
  },
  {
   "cell_type": "markdown",
   "id": "palestinian-machinery",
   "metadata": {},
   "source": [
    "We know that \n",
    "\n",
    "$$T.v=\\hat{v}$$  \n",
    "\n",
    "We need to find $\\hat{T}$ such that \n",
    "\n",
    "$$\\hat{T}.\\hat{v}=v$$\n",
    "\n",
    "Plugging $\\hat{v}$ in,  \n",
    "\n",
    "$$\\hat{T}.T.v =v$$\n",
    "\n",
    "Then $\\hat{T}$ should be at least left inverse of $T$. But this is not possible since $T$ is a 4 x 6 matrix. Columns of T can not be independent, $T$ is not left invertible. Thus there is no general $\\hat{T}$ such that $\\hat{T}.\\hat{v}=v$.  \n",
    "\n",
    "Why did I say general?  \n",
    "\n",
    "Because we can design a specific matrix to satisfy $\\hat{T}.\\hat{v}=v$.  \n",
    "\n",
    "We know  \n",
    "\n",
    "$$ \\hat{v}= \\begin{bmatrix}\n",
    "0.5 \\\\ 4.7 \\\\\n",
    "2.4 \\\\ -1.1\n",
    "\\end{bmatrix} $$  \n",
    " So when we can design $\\hat{T}$ such that its first column is $2.v$ and the rest is zero, it will bring the needed result by column interpretation. But this is not a generic approach. I believe in this question you are asking for a $\\hat{T}$ that minimizes \n",
    " \n",
    "$$ || \\hat{T}.T - I || $$"
   ]
  },
  {
   "cell_type": "markdown",
   "id": "regional-complement",
   "metadata": {},
   "source": [
    "### d.\n",
    "\n",
    "Think of $\\hat{T}$ as a collection of 4 vectors in 6d space. By combining those vectors with coefficients of $\\hat{v}$, we can span a 4d subspace. After combination, we want to reach v which is a vector in 6d space. We can only reach correct v if v lies on the 4d subspace in the span of vectors in $\\hat{T}$. This represents an overdetermined system which has more constraints then the number of variables."
   ]
  },
  {
   "cell_type": "markdown",
   "id": "knowing-march",
   "metadata": {},
   "source": [
    "### e.  \n",
    "\n",
    "If we were given $\\hat{T}$ and $v$ and asked to find the best fitting $\\hat{v}$, we would apply the following least squares procedure:  \n",
    "\n",
    "* We would find the pseudo-inverse(left inverse in this case) of $\\hat{T}$\n",
    "* Multiply the left inverse with $v$ to get $\\hat{v}$.  \n",
    "\n",
    "$$ \\hat{T} . \\hat{v} \\approx v $$  \n",
    "\n",
    "$$ \\hat{v} =  (\\hat{T}^{T}.\\hat{T})^{-1}.\\hat{T}^{T}.v $$  \n",
    "\n",
    "$$ \\hat{T} . (\\hat{T}^{T}.\\hat{T})^{-1}.\\hat{T}^{T}.v \\approx v $$  \n",
    "\n",
    "Now unfortunately, we are asked the matrix instead of the vector. Thus we need to approximate $\\hat{T}$ with given $\\hat{v}$. I am going to try to build a similar equation to the upper one. Let $\\hat{T}$ be the right inverse of T.\n",
    "\n",
    "$$ \\hat{T} = T^{T}.(T.T^T)^{-1}$$\n",
    "\n",
    "$$ \\hat{T}.\\hat{v} \\approx v $$\n",
    "\n",
    "$$ T^{T}.(T.T^T)^{-1}.\\hat{v} \\approx v$$\n",
    "\n",
    "$$ T^{T}.(T.T^T)^{-1}.T.v \\approx v$$  \n",
    "\n",
    "See that this seems like a least squares solution. It actually is! The least squares solution for \n",
    "\n",
    "$$T^{T}. \\hat{v} = v $$ \n",
    "\n",
    "would be this. In other words,  \n",
    "\n",
    "$$ T^T(T.T^T)^{-1}.T \\approx I $$  \n",
    "\n",
    "This outcome validates my approach that the least squares solution for $\\hat{T}$ is,  \n",
    "\n",
    "$$ \\hat{T} = T^{T}.(T.T^T)^{-1} $$  \n",
    "\n",
    "$$ \\hat{T} . T \\approx I $$\n",
    "\n",
    "The approximation result:  "
   ]
  },
  {
   "cell_type": "code",
   "execution_count": 10,
   "id": "chinese-flood",
   "metadata": {},
   "outputs": [
    {
     "data": {
      "text/plain": [
       "array([-0.40754414, -0.07972939,  1.27445538,  7.20939387,  0.18289383,\n",
       "       -3.1263459 ])"
      ]
     },
     "execution_count": 10,
     "metadata": {},
     "output_type": "execute_result"
    }
   ],
   "source": [
    "def right_inverse(M):\n",
    "    return  M.T@(np.linalg.inv(M@M.T))\n",
    "T2 = right_inverse(T)\n",
    "v3 = T2@v2\n",
    "v3"
   ]
  },
  {
   "cell_type": "markdown",
   "id": "thorough-crown",
   "metadata": {},
   "source": [
    "### f. \n",
    "\n",
    "As in part e, $\\hat{T}$ is right inverse of $T$. "
   ]
  },
  {
   "cell_type": "markdown",
   "id": "activated-wichita",
   "metadata": {},
   "source": [
    "## Problem 4  \n",
    "## a."
   ]
  },
  {
   "cell_type": "markdown",
   "id": "intermediate-boring",
   "metadata": {},
   "source": [
    "For invertible A and B, A+B may or may not be invertible.  \n",
    "\n",
    "**Proof:**  \n",
    "\n",
    "* A+B may not be invertible. Suppose A and B are invertible matrices and $A = -B$. Then $A+B = 0$ matrix which is not invertible since its columns are linearly dependent trivially.  \n",
    "\n",
    "* A+B may be invertible. Suppose $A = B = I$. Then $A+B = 2.I$ is also invertible trivially.  \n",
    "\n",
    "Therefore, without any further assumption, we can not comment on the invertability on A+B."
   ]
  },
  {
   "cell_type": "markdown",
   "id": "geological-closing",
   "metadata": {},
   "source": [
    "### b. "
   ]
  },
  {
   "cell_type": "markdown",
   "id": "recognized-danish",
   "metadata": {},
   "source": [
    "For invertible A and B, $  R = \\begin{bmatrix}\n",
    "A & 0 \\\\\n",
    "0 & B\n",
    "\\end{bmatrix} $ is also invertible.  \n",
    "**Proof:**  "
   ]
  },
  {
   "cell_type": "markdown",
   "id": "guilty-still",
   "metadata": {},
   "source": [
    "Let K be the block matrix such that,  \n",
    "$$ K = \\begin{bmatrix}\n",
    "A^{-1} & 0 \\\\\n",
    "0 & B^{-1}\n",
    "\\end{bmatrix} $$\n"
   ]
  },
  {
   "cell_type": "markdown",
   "id": "level-adoption",
   "metadata": {},
   "source": [
    "Since both $K$ and $R$ are 2n x 2n matrices and $A$, $A^{-1}$, $B$, $B^{-1}$ are n x n matrices,  \n",
    "\n",
    "$$ K.R = \\begin{bmatrix}\n",
    "A^{-1}.A & 0 \\\\\n",
    "0 & B^{-1}.B\n",
    "\\end{bmatrix}\n",
    "=\\begin{bmatrix}\n",
    "I & 0 \\\\\n",
    "0 & I\n",
    "\\end{bmatrix} = I $$"
   ]
  },
  {
   "cell_type": "markdown",
   "id": "numerical-fruit",
   "metadata": {},
   "source": [
    "Then $K=R^{-1}$, thus R is invertible. "
   ]
  },
  {
   "cell_type": "markdown",
   "id": "consecutive-anniversary",
   "metadata": {},
   "source": [
    "### c."
   ]
  },
  {
   "cell_type": "markdown",
   "id": "looking-corrections",
   "metadata": {},
   "source": [
    "For invertible A and B, $  R = \\begin{bmatrix}\n",
    "A & 0 \\\\\n",
    "A+B & B\n",
    "\\end{bmatrix} $ is also invertible.  \n",
    "**Proof:**  "
   ]
  },
  {
   "cell_type": "markdown",
   "id": "recognized-physiology",
   "metadata": {},
   "source": [
    "Let K be the block matrix such that,  \n",
    "$$ K = \\begin{bmatrix}\n",
    "A^{-1} & 0 \\\\\n",
    "-(A^{-1}+B^{-1}) & B^{-1}\n",
    "\\end{bmatrix} $$"
   ]
  },
  {
   "cell_type": "markdown",
   "id": "touched-honor",
   "metadata": {},
   "source": [
    "Since both $K$ and $R$ are 2n x 2n matrices and $A$, $A^{-1}$, $B$, $B^{-1}$ are n x n matrices,  \n",
    "\n",
    "$$ K.R = \\begin{bmatrix}\n",
    "A^{-1}.A & 0 \\\\\n",
    "(A+B).A^{-1} + B.(-(A^{-1}+B^{-1})) & B^{-1}.B\n",
    "\\end{bmatrix}\n",
    "=\\begin{bmatrix}\n",
    "I & 0 \\\\\n",
    "0 & I\n",
    "\\end{bmatrix} = I $$"
   ]
  },
  {
   "cell_type": "markdown",
   "id": "circular-regard",
   "metadata": {},
   "source": [
    "Then $K=R^{-1}$, thus R is invertible. "
   ]
  },
  {
   "cell_type": "markdown",
   "id": "protective-straight",
   "metadata": {},
   "source": [
    "### d.  \n",
    "For invertible A and B, A.B.A is also invertible."
   ]
  },
  {
   "cell_type": "markdown",
   "id": "australian-pursuit",
   "metadata": {},
   "source": [
    "**Proof:**  \n",
    "\n",
    "Let M and K be n x n matrices such that,  \n",
    "\n",
    "$$ M = A.B.A $$\n",
    "$$ K = A^{-1}.B^{-1}.A^{-1} $$\n",
    "$$ K.M = (A^{-1}.B^{-1}.A^{-1}).(A.B.A)$$"
   ]
  },
  {
   "cell_type": "markdown",
   "id": "settled-present",
   "metadata": {},
   "source": [
    "With associativity,  \n",
    "$$ K.M = (A^{-1}.B^{-1}).(A^{-1}.A).(B.A)$$\n",
    "$$ K.M = (A^{-1}.B^{-1}).I.(B.A)$$\n",
    "$$ K.M = (A^{-1}.(B^{-1}.B).A)$$\n",
    "$$ K.M = (A^{-1}.I.A) = I$$"
   ]
  },
  {
   "cell_type": "markdown",
   "id": "chicken-liquid",
   "metadata": {},
   "source": [
    "Then $K=M^{-1}$, thus A.B.A is invertible. "
   ]
  },
  {
   "cell_type": "markdown",
   "id": "tamil-luxury",
   "metadata": {},
   "source": [
    "## Problem 5"
   ]
  },
  {
   "cell_type": "markdown",
   "id": "handled-helicopter",
   "metadata": {},
   "source": [
    "### a."
   ]
  },
  {
   "cell_type": "code",
   "execution_count": 32,
   "id": "inside-special",
   "metadata": {},
   "outputs": [
    {
     "data": {
      "text/plain": [
       "array([-1.        , -0.89473684, -0.78947368, -0.68421053, -0.57894737,\n",
       "       -0.47368421, -0.36842105, -0.26315789, -0.15789474, -0.05263158,\n",
       "        0.05263158,  0.15789474,  0.26315789,  0.36842105,  0.47368421,\n",
       "        0.57894737,  0.68421053,  0.78947368,  0.89473684,  1.        ])"
      ]
     },
     "execution_count": 32,
     "metadata": {},
     "output_type": "execute_result"
    }
   ],
   "source": [
    "x = np.linspace(-1,1,20)\n",
    "x"
   ]
  },
  {
   "cell_type": "markdown",
   "id": "first-public",
   "metadata": {},
   "source": [
    "### b."
   ]
  },
  {
   "cell_type": "code",
   "execution_count": 34,
   "id": "legal-filename",
   "metadata": {},
   "outputs": [
    {
     "name": "stdout",
     "output_type": "stream",
     "text": [
      "[ 0.87925642  0.45622619  0.25868054 -0.52862971 -0.76980855 -0.99107094\n",
      " -0.90190126 -0.78361022 -0.59888733 -0.17661721  0.30092166  0.60040725\n",
      "  0.91434764  0.90448032  0.66664868  0.75500115  0.15649801 -0.0387523\n",
      " -0.50289849 -1.02275701]\n",
      "[ 0.8660254   0.56980806  0.16459459 -0.27210346 -0.65675202 -0.91577333\n",
      " -0.99962031 -0.89225424 -0.61421271 -0.21868109  0.21868109  0.61421271\n",
      "  0.89225424  0.99962031  0.91577333  0.65675202  0.27210346 -0.16459459\n",
      " -0.56980806 -0.8660254 ]\n"
     ]
    }
   ],
   "source": [
    "y = np.sin(2*np.pi*x / (1.5))\n",
    "e = np.random.normal(0,0.1,20)\n",
    "print(y+e)\n",
    "print(y)"
   ]
  },
  {
   "cell_type": "code",
   "execution_count": 35,
   "id": "variable-irish",
   "metadata": {},
   "outputs": [
    {
     "data": {
      "text/plain": [
       "<matplotlib.collections.PathCollection at 0x255370728b0>"
      ]
     },
     "execution_count": 35,
     "metadata": {},
     "output_type": "execute_result"
    },
    {
     "data": {
      "image/png": "[encoded data removed]",
      "text/plain": [
       "<Figure size 432x288 with 1 Axes>"
      ]
     },
     "metadata": {
      "needs_background": "light"
     },
     "output_type": "display_data"
    }
   ],
   "source": [
    "plt.scatter(x,y)"
   ]
  },
  {
   "cell_type": "markdown",
   "id": "coupled-member",
   "metadata": {},
   "source": [
    "### c."
   ]
  },
  {
   "cell_type": "code",
   "execution_count": 36,
   "id": "inclusive-player",
   "metadata": {},
   "outputs": [],
   "source": [
    "V = [[x[i]**j for j in range(11)] for i in range(len(x))]"
   ]
  },
  {
   "cell_type": "markdown",
   "id": "electoral-bruce",
   "metadata": {},
   "source": [
    "### d."
   ]
  },
  {
   "cell_type": "code",
   "execution_count": 42,
   "id": "opposite-husband",
   "metadata": {},
   "outputs": [
    {
     "data": {
      "image/png": "[encoded data removed]",
      "text/plain": [
       "<Figure size 432x1728 with 5 Axes>"
      ]
     },
     "metadata": {
      "needs_background": "light"
     },
     "output_type": "display_data"
    }
   ],
   "source": [
    "Q, R = np.linalg.qr(V)\n",
    "\n",
    "f, axs = plt.subplots(5,1,sharex=False, sharey=False,figsize = (6,24))\n",
    "for i in range(5):\n",
    "    ytemp = Q[:,i]\n",
    "    axs[i].set_title(str(i)+\". Degree\")\n",
    "    axs[i].set_xlim([-1.0, 1.0])\n",
    "    axs[i].set_ylim([-1.0, 1.0])\n",
    "    axs[i].scatter(x,ytemp)"
   ]
  },
  {
   "cell_type": "markdown",
   "id": "cognitive-gasoline",
   "metadata": {},
   "source": [
    "## e.\n",
    "\n",
    "Solving least squares for $Q.c^{(j)}$ actually means solving least squares for the j+1 columns of $Q$.  \n",
    "Note that all slices of Q also consist of orthonormal columns (spanning a smaller subspace).  \n",
    "Thus, if a slice of $Q$ is $M$, the least squares coefficients can simply be found with $M^T.y$.  \n",
    "\n",
    "For j = 0,"
   ]
  },
  {
   "cell_type": "code",
   "execution_count": 38,
   "id": "subjective-concern",
   "metadata": {},
   "outputs": [],
   "source": [
    "Q1 = Q[:,0:1]\n",
    "theta1 = Q1.T @ y\n",
    "y1 = Q1 @ theta1\n",
    "\n",
    "Q6 = Q[:,0:6]\n",
    "theta6 = Q6.T @ y\n",
    "y6 = Q6 @ theta6\n",
    "\n",
    "Q11 = Q[:,0:11]\n",
    "theta11 = Q11.T @ y\n",
    "y11 = Q11 @ theta11"
   ]
  },
  {
   "cell_type": "code",
   "execution_count": 39,
   "id": "extraordinary-participation",
   "metadata": {},
   "outputs": [
    {
     "data": {
      "text/plain": [
       "<matplotlib.legend.Legend at 0x2554a607e50>"
      ]
     },
     "execution_count": 39,
     "metadata": {},
     "output_type": "execute_result"
    },
    {
     "data": {
      "image/png": "[encoded data removed]",
      "text/plain": [
       "<Figure size 864x1728 with 3 Axes>"
      ]
     },
     "metadata": {
      "needs_background": "light"
     },
     "output_type": "display_data"
    }
   ],
   "source": [
    "f, axs = plt.subplots(3,1,sharex=False, sharey=False,figsize = (12,24))\n",
    "\n",
    "axs[0].set_title(\"j=0\")\n",
    "axs[0].set_xlim([-1.0, 1.0])\n",
    "axs[0].set_ylim([-1.0, 1.0])\n",
    "l1=axs[0].scatter(x,y,color='b')\n",
    "l2=axs[0].scatter(x,y1,color='r',marker='x')\n",
    "l1.set_label(\"Original\")\n",
    "l2.set_label(\"Approximation\")\n",
    "axs[0].legend()\n",
    "\n",
    "axs[1].set_title(\"j=5\")\n",
    "axs[1].set_xlim([-1.0, 1.0])\n",
    "axs[1].set_ylim([-1.0, 1.0])\n",
    "l1=axs[1].scatter(x,y,color='b')\n",
    "l2=axs[1].scatter(x,y6,color='r',marker='x')\n",
    "l1.set_label(\"Original\")\n",
    "l2.set_label(\"Approximation\")\n",
    "axs[1].legend()\n",
    "\n",
    "axs[2].set_title(\"j=10\")\n",
    "axs[2].set_xlim([-1.0, 1.0])\n",
    "axs[2].set_ylim([-1.0, 1.0])\n",
    "l1=axs[2].scatter(x,y,color='b')\n",
    "l2=axs[2].scatter(x,y11,color='r',marker='x')\n",
    "l1.set_label(\"Original\")\n",
    "l2.set_label(\"Approximation\")\n",
    "axs[2].legend()\n"
   ]
  },
  {
   "cell_type": "markdown",
   "id": "residential-google",
   "metadata": {},
   "source": [
    "Expectedly, as j increases, approximations became more accurate. Because j, as the number of columns to use brings more terms to our approximation. When j is low, our system is so much over-determined to replicate the detailed behavior of sine function."
   ]
  },
  {
   "cell_type": "markdown",
   "id": "inappropriate-usage",
   "metadata": {},
   "source": [
    "### f."
   ]
  },
  {
   "cell_type": "markdown",
   "id": "scheduled-kernel",
   "metadata": {},
   "source": [
    "Now instead of using Q, we are going to use our original V with same procedure. Since V is not orthonormal, we are going to need the left inverse of V to get coefficients."
   ]
  },
  {
   "cell_type": "code",
   "execution_count": 40,
   "id": "hungry-mountain",
   "metadata": {},
   "outputs": [],
   "source": [
    "def left_inverse(M):\n",
    "    return  (np.linalg.inv(M.T@M))@M.T \n",
    "V = np.array(V)\n",
    "\n",
    "V1 = V[:,0:1]\n",
    "theta1 = left_inverse(V1) @ y\n",
    "y1 = V1 @ theta1\n",
    "\n",
    "V6 = V[:,0:6]\n",
    "theta6 = left_inverse(V6) @ y\n",
    "y6 = V6 @ theta6\n",
    "\n",
    "V11 = V[:,0:11]\n",
    "theta11 = left_inverse(V11) @ y\n",
    "y11 = V11 @ theta11"
   ]
  },
  {
   "cell_type": "code",
   "execution_count": 41,
   "id": "shared-industry",
   "metadata": {},
   "outputs": [
    {
     "data": {
      "text/plain": [
       "<matplotlib.legend.Legend at 0x2554a73f910>"
      ]
     },
     "execution_count": 41,
     "metadata": {},
     "output_type": "execute_result"
    },
    {
     "data": {
      "image/png": "[encoded data removed]",
      "text/plain": [
       "<Figure size 864x1728 with 3 Axes>"
      ]
     },
     "metadata": {
      "needs_background": "light"
     },
     "output_type": "display_data"
    }
   ],
   "source": [
    "f, axs = plt.subplots(3,1,sharex=False, sharey=False,figsize = (12,24))\n",
    "\n",
    "axs[0].set_title(\"j=0\")\n",
    "axs[0].set_xlim([-1.0, 1.0])\n",
    "axs[0].set_ylim([-1.0, 1.0])\n",
    "l1=axs[0].scatter(x,y,color='b')\n",
    "l2=axs[0].scatter(x,y1,color='r',marker='x')\n",
    "l1.set_label(\"Original\")\n",
    "l2.set_label(\"Approximation\")\n",
    "axs[0].legend()\n",
    "\n",
    "axs[1].set_title(\"j=5\")\n",
    "axs[1].set_xlim([-1.0, 1.0])\n",
    "axs[1].set_ylim([-1.0, 1.0])\n",
    "l1=axs[1].scatter(x,y,color='b')\n",
    "l2=axs[1].scatter(x,y6,color='r',marker='x')\n",
    "l1.set_label(\"Original\")\n",
    "l2.set_label(\"Approximation\")\n",
    "axs[1].legend()\n",
    "\n",
    "axs[2].set_title(\"j=10\")\n",
    "axs[2].set_xlim([-1.0, 1.0])\n",
    "axs[2].set_ylim([-1.0, 1.0])\n",
    "l1=axs[2].scatter(x,y,color='b')\n",
    "l2=axs[2].scatter(x,y11,color='r',marker='x')\n",
    "l1.set_label(\"Original\")\n",
    "l2.set_label(\"Approximation\")\n",
    "axs[2].legend()"
   ]
  },
  {
   "cell_type": "markdown",
   "id": "amended-creation",
   "metadata": {},
   "source": [
    "Approximation accuracies were similar in e and f. This is because V and Q span the same subspace. The only difference is that the columns of Q are orthonormal, thus it yields more reasonable $\\theta$ coefficients."
   ]
  },
  {
   "cell_type": "code",
   "execution_count": null,
   "id": "naughty-prize",
   "metadata": {},
   "outputs": [],
   "source": []
  }
 ],
 "metadata": {
  "kernelspec": {
   "display_name": "Python 3",
   "language": "python",
   "name": "python3"
  },
  "language_info": {
   "codemirror_mode": {
    "name": "ipython",
    "version": 3
   },
   "file_extension": ".py",
   "mimetype": "text/x-python",
   "name": "python",
   "nbconvert_exporter": "python",
   "pygments_lexer": "ipython3",
   "version": "3.8.5"
  }
 },
 "nbformat": 4,
 "nbformat_minor": 5
}
